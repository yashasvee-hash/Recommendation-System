{
 "cells": [
  {
   "cell_type": "code",
   "execution_count": 1,
   "id": "98ce4854",
   "metadata": {},
   "outputs": [],
   "source": [
    "import pandas as pd\n",
    "from pandas.io.json import json_normalize\n",
    "import json\n",
    "import os"
   ]
  },
  {
   "cell_type": "code",
   "execution_count": 2,
   "id": "4200b68f",
   "metadata": {},
   "outputs": [],
   "source": [
    "data = pd.DataFrame()"
   ]
  },
  {
   "cell_type": "code",
   "execution_count": 3,
   "id": "ee6080a4",
   "metadata": {},
   "outputs": [
    {
     "name": "stderr",
     "output_type": "stream",
     "text": [
      "C:\\Users\\Yashasvee Shukla\\anaconda3\\lib\\site-packages\\ipykernel_launcher.py:8: FutureWarning: pandas.io.json.json_normalize is deprecated, use pandas.json_normalize instead\n",
      "  \n"
     ]
    }
   ],
   "source": [
    "for filename in os.listdir('E:/Practice/Assignment_1/500_files'):\n",
    "    if filename.endswith(\".json\"):\n",
    "        df1 = pd.DataFrame()\n",
    "        path = (os.path.join('E:/Practice/Assignment_1/500_files', filename))\n",
    "        json_example = json.load(open(path))\n",
    "        reviews =  json_example['Reviews']\n",
    "        Info = json_example['HotelInfo']\n",
    "        df1 = json_normalize(reviews)\n",
    "        if 'Name' in Info:\n",
    "            df1['Hotel_Name'] = Info['Name']\n",
    "        else:\n",
    "            df1['Hotel_Name'] = Info['HotelID']\n",
    "        data = pd.concat([data,df1])"
   ]
  },
  {
   "cell_type": "code",
   "execution_count": null,
   "id": "e06c3f3e",
   "metadata": {},
   "outputs": [],
   "source": []
  }
 ],
 "metadata": {
  "kernelspec": {
   "display_name": "Python 3",
   "language": "python",
   "name": "python3"
  },
  "language_info": {
   "codemirror_mode": {
    "name": "ipython",
    "version": 3
   },
   "file_extension": ".py",
   "mimetype": "text/x-python",
   "name": "python",
   "nbconvert_exporter": "python",
   "pygments_lexer": "ipython3",
   "version": "3.7.6"
  }
 },
 "nbformat": 4,
 "nbformat_minor": 5
}
